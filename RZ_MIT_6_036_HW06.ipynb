{
  "nbformat": 4,
  "nbformat_minor": 0,
  "metadata": {
    "colab": {
      "name": "RZ MIT 6.036 HW06.ipynb",
      "provenance": [],
      "collapsed_sections": [],
      "include_colab_link": true
    },
    "kernelspec": {
      "name": "python3",
      "display_name": "Python 3"
    }
  },
  "cells": [
    {
      "cell_type": "markdown",
      "metadata": {
        "id": "view-in-github",
        "colab_type": "text"
      },
      "source": [
        "<a href=\"https://colab.research.google.com/github/richardzhu64/mit-6036/blob/master/RZ_MIT_6_036_HW06.ipynb\" target=\"_parent\"><img src=\"https://colab.research.google.com/assets/colab-badge.svg\" alt=\"Open In Colab\"/></a>"
      ]
    },
    {
      "cell_type": "markdown",
      "metadata": {
        "id": "lH5VCTqoeKAr",
        "colab_type": "text"
      },
      "source": [
        "# MIT 6.036 Spring 2020: Homework 6\n",
        "\n",
        "This homework does not include provided Python code. Instead, we encourage you to write your own code to help you answer some of these problems, and/or test and debug the code components we do ask for. All of the problems should be simple enough that hand calculation should be possible, but it may be convenient to write some short programs to explore the neural networks, particularly for problem 2."
      ]
    },
    {
      "cell_type": "code",
      "metadata": {
        "id": "Z9_de7CGeMAN",
        "colab_type": "code",
        "colab": {}
      },
      "source": [
        "import numpy as np"
      ],
      "execution_count": 0,
      "outputs": []
    },
    {
      "cell_type": "markdown",
      "metadata": {
        "id": "yAfU13u6Mjoh",
        "colab_type": "text"
      },
      "source": [
        "# **Problem 2**"
      ]
    },
    {
      "cell_type": "markdown",
      "metadata": {
        "id": "hdfhir-jCOpH",
        "colab_type": "text"
      },
      "source": [
        "You may find it helpful to implement a softmax function to use for solving the problems."
      ]
    },
    {
      "cell_type": "code",
      "metadata": {
        "id": "dpa15uD0CN31",
        "colab_type": "code",
        "colab": {}
      },
      "source": [
        "# Implement Softmax\n",
        "def SM(z):\n",
        "    e_z = np.exp(z)\n",
        "    total = np.sum(e_z)\n",
        "    return e_z / total\n"
      ],
      "execution_count": 0,
      "outputs": []
    },
    {
      "cell_type": "markdown",
      "metadata": {
        "id": "xYjIQLRleiMg",
        "colab_type": "text"
      },
      "source": [
        "**Problem 2.A**"
      ]
    },
    {
      "cell_type": "code",
      "metadata": {
        "id": "oETivVBBemUi",
        "colab_type": "code",
        "outputId": "302f1d8e-5a60-413b-df93-85061ba448ce",
        "colab": {
          "base_uri": "https://localhost:8080/",
          "height": 69
        }
      },
      "source": [
        "z = np.array([[-1, 0, 1]]).T\n",
        "print(SM(z))"
      ],
      "execution_count": 0,
      "outputs": [
        {
          "output_type": "stream",
          "text": [
            "[[0.09003057]\n",
            " [0.24472847]\n",
            " [0.66524096]]\n"
          ],
          "name": "stdout"
        }
      ]
    },
    {
      "cell_type": "markdown",
      "metadata": {
        "id": "wiHN0bJHevw2",
        "colab_type": "text"
      },
      "source": [
        "**Problem 2.C - 2.F**"
      ]
    },
    {
      "cell_type": "code",
      "metadata": {
        "id": "_6FPSgJHeu_Q",
        "colab_type": "code",
        "outputId": "be9254dc-b315-404b-9191-e3c1b8aeea70",
        "colab": {
          "base_uri": "https://localhost:8080/",
          "height": 104
        }
      },
      "source": [
        "w = np.array([[1, -1, -2], [-1, 2, 1]])\n",
        "x = np.array([[1], [1]])\n",
        "y = np.array([[0, 1, 0]]).T\n",
        "\n",
        "z = w.T@x\n",
        "grad_w = ((SM(z)-y)@x.T).T\n",
        "\n",
        "w_step_one = w - .5 * grad_w\n",
        "print(w_step_one)\n",
        "print(SM(w_step_one.T@x))"
      ],
      "execution_count": 0,
      "outputs": [
        {
          "output_type": "stream",
          "text": [
            "[[ 0.87763576 -0.83262048 -2.04501529]\n",
            " [-1.12236424  2.16737952  0.95498471]]\n",
            "[[0.15918761]\n",
            " [0.77245284]\n",
            " [0.06835955]]\n"
          ],
          "name": "stdout"
        }
      ]
    },
    {
      "cell_type": "markdown",
      "metadata": {
        "id": "X-sRxHa9e7w9",
        "colab_type": "text"
      },
      "source": [
        "# **Problem 3**"
      ]
    },
    {
      "cell_type": "markdown",
      "metadata": {
        "id": "5hRvq915LqFz",
        "colab_type": "text"
      },
      "source": [
        "**Problem 3.1**\n",
        "\n",
        "You may choose to draft your implementation here. We recommend looking at the ReLU plot at the top of the homework page for better understanding."
      ]
    },
    {
      "cell_type": "code",
      "metadata": {
        "id": "l7QkgtSofQ-h",
        "colab_type": "code",
        "outputId": "46ca2833-c690-4ef4-caa0-ff936cde87e0",
        "colab": {
          "base_uri": "https://localhost:8080/",
          "height": 52
        }
      },
      "source": [
        "def cv(value_list):\n",
        "    return np.array([value_list]).T\n",
        "\n",
        "def ReLU(z):\n",
        "  return np.where(z > 0, z, 0)\n",
        "\n",
        "def dReLU_dz(z):\n",
        "    return np.where(z > 0, 1, 0)\n",
        "\n",
        "x = cv([3,14])\n",
        "w_1 = np.array([[1, 0 , -1, 0], [0, 1, 0 ,-1]])\n",
        "w_1_0 = cv([-1,-1,-1,-1])\n",
        "w_2 = np.array([[1,-1],[1,-1],[1,-1],[1,-1]])\n",
        "w_2_0 = cv([0, 2])\n",
        "\n",
        "# hidden layer\n",
        "a_1 = ReLU(w_1.T@x + w_1_0)\n",
        "a_2 = SM(w_2.T@a_1 + w_2_0)\n",
        "print(a_2)"
      ],
      "execution_count": 0,
      "outputs": [
        {
          "output_type": "stream",
          "text": [
            "[[1.00000000e+00]\n",
            " [6.91440011e-13]]\n"
          ],
          "name": "stdout"
        }
      ]
    }
  ]
}